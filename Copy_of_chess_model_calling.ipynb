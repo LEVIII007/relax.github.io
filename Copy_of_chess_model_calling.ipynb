{
  "cells": [
    {
      "cell_type": "markdown",
      "metadata": {
        "id": "view-in-github",
        "colab_type": "text"
      },
      "source": [
        "<a href=\"https://colab.research.google.com/github/LEVIII007/relax.github.io/blob/main/Copy_of_chess_model_calling.ipynb\" target=\"_parent\"><img src=\"https://colab.research.google.com/assets/colab-badge.svg\" alt=\"Open In Colab\"/></a>"
      ]
    },
    {
      "cell_type": "code",
      "execution_count": 1,
      "outputs": [
        {
          "output_type": "stream",
          "name": "stdout",
          "text": [
            "Collecting chess\n",
            "  Downloading chess-1.10.0-py3-none-any.whl (154 kB)\n",
            "\u001b[2K     \u001b[90m━━━━━━━━━━━━━━━━━━━━━━━━━━━━━━━━━━━━━━━━\u001b[0m \u001b[32m154.4/154.4 kB\u001b[0m \u001b[31m1.8 MB/s\u001b[0m eta \u001b[36m0:00:00\u001b[0m\n",
            "\u001b[?25hInstalling collected packages: chess\n",
            "Successfully installed chess-1.10.0\n",
            "r n b q k b n r\n",
            "p p p p p p p p\n",
            ". . . . . . . .\n",
            ". . . . . . . .\n",
            ". . . . . . . .\n",
            ". . . . . . . .\n",
            "P P P P P P P P\n",
            "R N B Q K B N R\n"
          ]
        },
        {
          "output_type": "error",
          "ename": "FileNotFoundError",
          "evalue": "[Errno 2] No such file or directory: 'path_to_your_model.pl'",
          "traceback": [
            "\u001b[0;31m---------------------------------------------------------------------------\u001b[0m",
            "\u001b[0;31mFileNotFoundError\u001b[0m                         Traceback (most recent call last)",
            "\u001b[0;32m<ipython-input-1-8396f9992111>\u001b[0m in \u001b[0;36m<cell line: 36>\u001b[0;34m()\u001b[0m\n\u001b[1;32m     34\u001b[0m \u001b[0;34m\u001b[0m\u001b[0m\n\u001b[1;32m     35\u001b[0m \u001b[0;31m# %% [code] {\"execution\":{\"iopub.status.busy\":\"2024-01-26T20:45:02.398357Z\",\"iopub.execute_input\":\"2024-01-26T20:45:02.398675Z\",\"iopub.status.idle\":\"2024-01-26T20:45:02.585308Z\",\"shell.execute_reply.started\":\"2024-01-26T20:45:02.398646Z\",\"shell.execute_reply\":\"2024-01-26T20:45:02.583414Z\"}}\u001b[0m\u001b[0;34m\u001b[0m\u001b[0;34m\u001b[0m\u001b[0m\n\u001b[0;32m---> 36\u001b[0;31m \u001b[0;32mwith\u001b[0m \u001b[0mopen\u001b[0m\u001b[0;34m(\u001b[0m\u001b[0;34m'path_to_your_model.pl'\u001b[0m\u001b[0;34m,\u001b[0m \u001b[0;34m'rb'\u001b[0m\u001b[0;34m)\u001b[0m \u001b[0;32mas\u001b[0m \u001b[0mfile\u001b[0m\u001b[0;34m:\u001b[0m\u001b[0;34m\u001b[0m\u001b[0;34m\u001b[0m\u001b[0m\n\u001b[0m\u001b[1;32m     37\u001b[0m     \u001b[0mmodel\u001b[0m \u001b[0;34m=\u001b[0m \u001b[0mpickle\u001b[0m\u001b[0;34m.\u001b[0m\u001b[0mload\u001b[0m\u001b[0;34m(\u001b[0m\u001b[0mfile\u001b[0m\u001b[0;34m)\u001b[0m\u001b[0;34m\u001b[0m\u001b[0;34m\u001b[0m\u001b[0m\n\u001b[1;32m     38\u001b[0m \u001b[0;34m\u001b[0m\u001b[0m\n",
            "\u001b[0;31mFileNotFoundError\u001b[0m: [Errno 2] No such file or directory: 'path_to_your_model.pl'"
          ]
        }
      ],
      "metadata": {
        "_kg_hide-input": false,
        "id": "8-r4makNcbWk",
        "colab": {
          "base_uri": "https://localhost:8080/",
          "height": 522
        },
        "outputId": "d7dc441e-1118-47a4-ce1b-e3f03e669351"
      },
      "source": [
        "!pip install chess\n",
        "!pip install pytorch"
      ]
    },
    {
      "cell_type": "code",
      "source": [
        "from google.colab import drive\n",
        "drive.mount('/content/drive')"
      ],
      "metadata": {
        "colab": {
          "base_uri": "https://localhost:8080/"
        },
        "id": "Hdhl1CbuhIQS",
        "outputId": "78e0e0d4-2c35-4305-c1b3-7967def0e3f1"
      },
      "execution_count": 1,
      "outputs": [
        {
          "output_type": "stream",
          "name": "stdout",
          "text": [
            "Mounted at /content/drive\n"
          ]
        }
      ]
    },
    {
      "cell_type": "code",
      "source": [
        "import numpy as np # linear algebra\n",
        "import pandas as pd # data processing, CSV file I/O (e.g. pd.read_csv)\n",
        "\n",
        "# Input data files are available in the read-only \"../input/\" directory\n",
        "# For example, running this (by clicking run or pressing Shift+Enter) will list all files under the input directory\n",
        "\n",
        "# import os\n",
        "# for dirname, _, filenames in os.walk('/kaggle/input'):\n",
        "#     for filename in filenames:\n",
        "#         print(os.path.join(dirname, filename))\n",
        "\n",
        "# You can write up to 20GB to the current directory (/kaggle/working/) that gets preserved as output when you create a version using \"Save & Run All\"\n",
        "# You can also write temporary files to /kaggle/temp/, but they won't be saved outside of the current session\n",
        "\n",
        "# %% [code] {\"execution\":{\"iopub.status.busy\":\"2024-01-26T20:44:50.764490Z\",\"iopub.execute_input\":\"2024-01-26T20:44:50.764987Z\",\"iopub.status.idle\":\"2024-01-26T20:45:02.374046Z\",\"shell.execute_reply.started\":\"2024-01-26T20:44:50.764954Z\",\"shell.execute_reply\":\"2024-01-26T20:45:02.372894Z\"}}\n",
        "!pip install chess\n",
        "!pip install pytorch\n",
        "\n",
        "# %% [code] {\"execution\":{\"iopub.status.busy\":\"2024-01-26T20:45:02.375499Z\",\"iopub.execute_input\":\"2024-01-26T20:45:02.375819Z\",\"iopub.status.idle\":\"2024-01-26T20:45:02.382170Z\",\"shell.execute_reply.started\":\"2024-01-26T20:45:02.375789Z\",\"shell.execute_reply\":\"2024-01-26T20:45:02.381146Z\"}}\n",
        "import gc\n",
        "from torch.utils.data import Dataset, DataLoader\n",
        "import torch.nn as nn\n",
        "import torch.nn.functional as F\n",
        "import torch\n",
        "import chess"
      ],
      "metadata": {
        "colab": {
          "base_uri": "https://localhost:8080/"
        },
        "id": "GhPbtooXiEeY",
        "outputId": "b2ee3bcd-b00c-4bc4-a692-4ef1ca7ba7c2"
      },
      "execution_count": 2,
      "outputs": [
        {
          "output_type": "stream",
          "name": "stdout",
          "text": [
            "Collecting chess\n",
            "  Downloading chess-1.10.0-py3-none-any.whl (154 kB)\n",
            "\u001b[2K     \u001b[90m━━━━━━━━━━━━━━━━━━━━━━━━━━━━━━━━━━━━━━━━\u001b[0m \u001b[32m154.4/154.4 kB\u001b[0m \u001b[31m2.7 MB/s\u001b[0m eta \u001b[36m0:00:00\u001b[0m\n",
            "\u001b[?25hInstalling collected packages: chess\n",
            "Successfully installed chess-1.10.0\n",
            "Collecting pytorch\n",
            "  Downloading pytorch-1.0.2.tar.gz (689 bytes)\n",
            "  Preparing metadata (setup.py) ... \u001b[?25l\u001b[?25hdone\n",
            "Building wheels for collected packages: pytorch\n",
            "  \u001b[1;31merror\u001b[0m: \u001b[1msubprocess-exited-with-error\u001b[0m\n",
            "  \n",
            "  \u001b[31m×\u001b[0m \u001b[32mpython setup.py bdist_wheel\u001b[0m did not run successfully.\n",
            "  \u001b[31m│\u001b[0m exit code: \u001b[1;36m1\u001b[0m\n",
            "  \u001b[31m╰─>\u001b[0m See above for output.\n",
            "  \n",
            "  \u001b[1;35mnote\u001b[0m: This error originates from a subprocess, and is likely not a problem with pip.\n",
            "  Building wheel for pytorch (setup.py) ... \u001b[?25lerror\n",
            "\u001b[31m  ERROR: Failed building wheel for pytorch\u001b[0m\u001b[31m\n",
            "\u001b[0m\u001b[?25h  Running setup.py clean for pytorch\n",
            "Failed to build pytorch\n",
            "\u001b[31mERROR: Could not build wheels for pytorch, which is required to install pyproject.toml-based projects\u001b[0m\u001b[31m\n",
            "\u001b[0m"
          ]
        }
      ]
    },
    {
      "cell_type": "code",
      "source": [
        "class module(nn.Module):\n",
        "\n",
        "    def __init__(self, hidden_size):\n",
        "        super(module, self).__init__()\n",
        "        self.conv1 = nn.Conv2d(hidden_size, hidden_size, 3, stride=1, padding=1)\n",
        "        self.conv2 = nn.Conv2d(hidden_size, hidden_size, 3, stride=1, padding=1)\n",
        "        self.bn1 = nn.BatchNorm2d(hidden_size)\n",
        "        self.bn2 = nn.BatchNorm2d(hidden_size)\n",
        "        self.activation1 = nn.SELU()\n",
        "        self.activation2 = nn.SELU()\n",
        "\n",
        "    def forward(self, x):\n",
        "        x_input = torch.clone(x)\n",
        "        x = self.conv1(x)\n",
        "        x = self.bn1(x)\n",
        "        x = self.activation1(x)\n",
        "        x = self.conv2(x)\n",
        "        x = self.bn2(x)\n",
        "        x += x_input\n",
        "        x = self.activation2(x)\n",
        "        return x"
      ],
      "metadata": {
        "id": "7DG0J5MpjYRB"
      },
      "execution_count": 3,
      "outputs": []
    },
    {
      "cell_type": "code",
      "source": [
        "class ChessNet(nn.Module):\n",
        "\n",
        "    def __init__(self, hidden_layers=4, hidden_size=200):\n",
        "        super(ChessNet, self).__init__()\n",
        "        self.hidden_layers = hidden_layers\n",
        "        self.input_layer = nn.Conv2d(6, hidden_size, 3, stride=1, padding=1)\n",
        "        self.module_list = nn.ModuleList([module(hidden_size) for i in range(hidden_layers)])\n",
        "        self.output_layer = nn.Conv2d(hidden_size, 2, 3, stride=1, padding=1)\n",
        "\n",
        "    def forward(self, x):\n",
        "\n",
        "        x = self.input_layer(x)\n",
        "        x = F.relu(x)\n",
        "\n",
        "        for i in range(self.hidden_layers):\n",
        "            x = self.module_list[i](x)\n",
        "\n",
        "        x = self.output_layer(x)\n",
        "\n",
        "        return x"
      ],
      "metadata": {
        "id": "QTPqaEa3jY3I"
      },
      "execution_count": 4,
      "outputs": []
    },
    {
      "cell_type": "code",
      "source": [
        "def return_mat(board):\n",
        "    notation_mapping = {   #standard to sidhu notation\n",
        "        'r': 'b-rook',\n",
        "        'n': 'b-knight',\n",
        "        'b': 'b-bishop',\n",
        "        'q': 'b-queen',\n",
        "        'k': 'b-king',\n",
        "        'p': 'b-pawn',\n",
        "        'R': 'w-rook',\n",
        "        'N': 'w-knight',\n",
        "        'B': 'w-bishop',\n",
        "        'Q': 'w-queen',\n",
        "        'K': 'w-king',\n",
        "        'P': 'w-pawn',\n",
        "        '.': None\n",
        "    }\n",
        "    board_str = str(board)\n",
        "    # Replace the standard notation with custom notation\n",
        "    new_board_chars = []\n",
        "    for char in board_str:\n",
        "        if char in notation_mapping:\n",
        "            new_board_chars.append(str(notation_mapping[char]))\n",
        "        else:\n",
        "            new_board_chars.append(char)\n",
        "\n",
        "    # Join the modified characters to form the new board string\n",
        "    new_board_str = ' '.join(new_board_chars)\n",
        "\n",
        "    # Print the modified board string\n",
        "    return new_board_str"
      ],
      "metadata": {
        "id": "Lf7fvxG4ksQP"
      },
      "execution_count": 6,
      "outputs": []
    },
    {
      "cell_type": "code",
      "source": [
        "def input_board(board_str):\n",
        "    # Convert the board string to a 2D list\n",
        "    board = [row.split() for row in board_str.split('\\n')]\n",
        "\n",
        "    reverse_notation_mapping = {\n",
        "        'b-rook': 'r',\n",
        "        'b-knight': 'n',\n",
        "        'b-bishop': 'b',\n",
        "        'b-queen': 'q',\n",
        "        'b-king': 'k',\n",
        "        'b-pawn': 'p',\n",
        "        'w-rook': 'R',\n",
        "        'w-knight': 'N',\n",
        "        'w-bishop': 'B',\n",
        "        'w-queen': 'Q',\n",
        "        'w-king': 'K',\n",
        "        'w-pawn': 'P',\n",
        "        'None': '.'\n",
        "    }\n",
        "\n",
        "    # Convert custom notation to standard notation\n",
        "    for i in range(8):\n",
        "        for j in range(8):\n",
        "            board[i][j] = reverse_notation_mapping[board[i][j]]\n",
        "\n",
        "    # Convert the 2D list to a FEN string\n",
        "    fen = ''\n",
        "    for row in board:  # 8th row to 1st row\n",
        "        empty_count = 0\n",
        "        for square in row:  # 'a' to 'h'\n",
        "            if square == '.':  # Empty square\n",
        "                empty_count += 1\n",
        "            else:  # Square is occupied by a piece\n",
        "                if empty_count > 0:\n",
        "                    fen += str(empty_count)\n",
        "                    empty_count = 0\n",
        "                fen += square\n",
        "        if empty_count > 0:\n",
        "            fen += str(empty_count)\n",
        "        fen += '/'\n",
        "    fen = fen[:-1]  # Remove the trailing '/'\n",
        "\n",
        "    # Create a chess.Board object\n",
        "    board = chess.Board(fen)\n",
        "    return board"
      ],
      "metadata": {
        "id": "4XkD6Ppuks6R"
      },
      "execution_count": 7,
      "outputs": []
    },
    {
      "cell_type": "code",
      "source": [
        "def checkmate_single(board):\n",
        "    board = board.copy()\n",
        "    legal_moves = list(board.legal_moves)\n",
        "    for move in legal_moves:\n",
        "        board.push_uci(str(move))\n",
        "        if board.is_checkmate():\n",
        "            move = board.pop()\n",
        "            return move\n",
        "        _ = board.pop()\n",
        "    return None\n",
        "\n",
        "# %% [code] {\"execution\":{\"iopub.status.busy\":\"2024-01-26T20:45:02.592224Z\",\"iopub.status.idle\":\"2024-01-26T20:45:02.592727Z\",\"shell.execute_reply.started\":\"2024-01-26T20:45:02.592488Z\",\"shell.execute_reply\":\"2024-01-26T20:45:02.592511Z\"}}\n",
        "def distribution_over_moves(vals):\n",
        "    probs = np.array(vals)\n",
        "    probs = np.exp(probs)\n",
        "    probs = probs / probs.sum()\n",
        "    probs = probs ** 3\n",
        "    probs = probs / probs.sum()\n",
        "    return probs\n",
        "\n",
        "# %% [code] {\"execution\":{\"iopub.status.busy\":\"2024-01-26T20:45:02.594041Z\",\"iopub.status.idle\":\"2024-01-26T20:45:02.594945Z\",\"shell.execute_reply.started\":\"2024-01-26T20:45:02.594715Z\",\"shell.execute_reply\":\"2024-01-26T20:45:02.594739Z\"}}\n",
        "def predict(x):\n",
        "    model.eval()\n",
        "    with torch.no_grad():\n",
        "        outputs = model(x)\n",
        "        return outputs.cpu().numpy()"
      ],
      "metadata": {
        "id": "UiUxUolNktZa"
      },
      "execution_count": 8,
      "outputs": []
    },
    {
      "cell_type": "code",
      "source": [
        "def choose_move(board,color):\n",
        "    board = input_board(board)\n",
        "\n",
        "    legal_moves = list(board.legal_moves)\n",
        "\n",
        "    move = checkmate_single(board)   #checking if single move me possible hai check mate\n",
        "\n",
        "    if move is not None:   #if yes..kardo\n",
        "        return move\n",
        "\n",
        "    x = torch.Tensor(board_2_rep(board)).float().to('cuda')\n",
        "    if color == chess.BLACK:\n",
        "        x *= -1\n",
        "    x = x.unsqueeze(0)\n",
        "    move = predict(x)\n",
        "    # print(move)\n",
        "    vals = []\n",
        "    froms = [str(legal_move)[:2] for legal_move in legal_moves]\n",
        "    froms = list(set(froms))\n",
        "    for from_ in froms:\n",
        "        # print(move[0,:,:][0][0])\n",
        "        val = move[0,:,:][0][8-int(from_[1]), letter_2_num[from_[0]]]\n",
        "        # print(from_)\n",
        "        vals.append(val)\n",
        "\n",
        "    probs = distribution_over_moves(vals)\n",
        "\n",
        "    chosen_from = str(np.random.choice(froms, size=1, p=probs)[0])[:2]\n",
        "\n",
        "    vals = []\n",
        "    for legal_move in legal_moves:\n",
        "        from_ = str(legal_move)[:2]\n",
        "        if from_ == chosen_from:\n",
        "            to = str(legal_move)[2:]\n",
        "            # print(move[0,:,:][0])\n",
        "            # print(move[0,:,:][1])\n",
        "            val = move[0,:,:][1][8 - int(to[1]), letter_2_num[to[0]]]\n",
        "            vals.append(val)\n",
        "        else:\n",
        "            vals.append(0)\n",
        "    chosen_move = legal_moves[np.argmax(vals)]\n",
        "    # Create a new chess board\n",
        "    board = chess.Board()\n",
        "\n",
        "# Push a move to the board\n",
        "    board.push_uci(chosen_move)\n",
        "    b_mat = return_mat(board)\n",
        "    return b_mat"
      ],
      "metadata": {
        "id": "OpjtIStrkt-f"
      },
      "execution_count": 9,
      "outputs": []
    },
    {
      "cell_type": "code",
      "source": [
        "from flask import Flask, request, jsonify\n",
        "\n",
        "app = Flask(_name_)\n",
        "# Load the pre-trained model\n",
        "model = ChessNet(hidden_layers=4, hidden_size=200)\n",
        "model.load_state_dict(torch.load('model1.pth'))\n",
        "model.eval()\n",
        "@app.route('/play', methods=['POST'])\n",
        "def play():\n",
        "    chessboard = request.json['chessboard']\n",
        "\n",
        "\n",
        "    new_board = choose_move(chessboard, chess.BLACK)\n",
        "    print(new_board)\n",
        "    return jsonify({'new_board': new_board})\n",
        "\n",
        "if _name_ == '_main_':\n",
        "    app.run()"
      ],
      "metadata": {
        "colab": {
          "base_uri": "https://localhost:8080/",
          "height": 245
        },
        "id": "haiayPTWkuhh",
        "outputId": "66d40ec7-db18-49af-b3dd-c30c9479971c"
      },
      "execution_count": 10,
      "outputs": [
        {
          "output_type": "error",
          "ename": "NameError",
          "evalue": "name '_name_' is not defined",
          "traceback": [
            "\u001b[0;31m---------------------------------------------------------------------------\u001b[0m",
            "\u001b[0;31mNameError\u001b[0m                                 Traceback (most recent call last)",
            "\u001b[0;32m<ipython-input-10-8f6f009190f1>\u001b[0m in \u001b[0;36m<cell line: 3>\u001b[0;34m()\u001b[0m\n\u001b[1;32m      1\u001b[0m \u001b[0;32mfrom\u001b[0m \u001b[0mflask\u001b[0m \u001b[0;32mimport\u001b[0m \u001b[0mFlask\u001b[0m\u001b[0;34m,\u001b[0m \u001b[0mrequest\u001b[0m\u001b[0;34m,\u001b[0m \u001b[0mjsonify\u001b[0m\u001b[0;34m\u001b[0m\u001b[0;34m\u001b[0m\u001b[0m\n\u001b[1;32m      2\u001b[0m \u001b[0;34m\u001b[0m\u001b[0m\n\u001b[0;32m----> 3\u001b[0;31m \u001b[0mapp\u001b[0m \u001b[0;34m=\u001b[0m \u001b[0mFlask\u001b[0m\u001b[0;34m(\u001b[0m\u001b[0m_name_\u001b[0m\u001b[0;34m)\u001b[0m\u001b[0;34m\u001b[0m\u001b[0;34m\u001b[0m\u001b[0m\n\u001b[0m\u001b[1;32m      4\u001b[0m \u001b[0;31m# Load the pre-trained model\u001b[0m\u001b[0;34m\u001b[0m\u001b[0;34m\u001b[0m\u001b[0m\n\u001b[1;32m      5\u001b[0m \u001b[0mmodel\u001b[0m \u001b[0;34m=\u001b[0m \u001b[0mChessNet\u001b[0m\u001b[0;34m(\u001b[0m\u001b[0mhidden_layers\u001b[0m\u001b[0;34m=\u001b[0m\u001b[0;36m4\u001b[0m\u001b[0;34m,\u001b[0m \u001b[0mhidden_size\u001b[0m\u001b[0;34m=\u001b[0m\u001b[0;36m200\u001b[0m\u001b[0;34m)\u001b[0m\u001b[0;34m\u001b[0m\u001b[0;34m\u001b[0m\u001b[0m\n",
            "\u001b[0;31mNameError\u001b[0m: name '_name_' is not defined"
          ]
        }
      ]
    },
    {
      "cell_type": "code",
      "source": [
        "model = ChessNet(hidden_layers=4, hidden_size=200)\n",
        "model.load_state_dict(torch.load('model1.pth'))\n",
        "model.eval()"
      ],
      "metadata": {
        "colab": {
          "base_uri": "https://localhost:8080/"
        },
        "id": "HoCzJy5hhpwX",
        "outputId": "10ebc26a-8aa2-4e85-fed2-e2135f7064af"
      },
      "execution_count": 5,
      "outputs": [
        {
          "output_type": "execute_result",
          "data": {
            "text/plain": [
              "ChessNet(\n",
              "  (input_layer): Conv2d(6, 200, kernel_size=(3, 3), stride=(1, 1), padding=(1, 1))\n",
              "  (module_list): ModuleList(\n",
              "    (0-3): 4 x module(\n",
              "      (conv1): Conv2d(200, 200, kernel_size=(3, 3), stride=(1, 1), padding=(1, 1))\n",
              "      (conv2): Conv2d(200, 200, kernel_size=(3, 3), stride=(1, 1), padding=(1, 1))\n",
              "      (bn1): BatchNorm2d(200, eps=1e-05, momentum=0.1, affine=True, track_running_stats=True)\n",
              "      (bn2): BatchNorm2d(200, eps=1e-05, momentum=0.1, affine=True, track_running_stats=True)\n",
              "      (activation1): SELU()\n",
              "      (activation2): SELU()\n",
              "    )\n",
              "  )\n",
              "  (output_layer): Conv2d(200, 2, kernel_size=(3, 3), stride=(1, 1), padding=(1, 1))\n",
              ")"
            ]
          },
          "metadata": {},
          "execution_count": 5
        }
      ]
    },
    {
      "cell_type": "code",
      "source": [],
      "metadata": {
        "id": "DZgB5AzrigRy"
      },
      "execution_count": null,
      "outputs": []
    }
  ],
  "metadata": {
    "language_info": {
      "name": "python",
      "version": "3.6.6",
      "mimetype": "text/x-python",
      "codemirror_mode": {
        "name": "ipython",
        "version": 3
      },
      "pygments_lexer": "ipython3",
      "nbconvert_exporter": "python",
      "file_extension": ".py"
    },
    "kernelspec": {
      "display_name": "Python 3",
      "name": "python3"
    },
    "colab": {
      "provenance": [],
      "gpuType": "T4",
      "include_colab_link": true
    },
    "accelerator": "GPU"
  },
  "nbformat": 4,
  "nbformat_minor": 0
}